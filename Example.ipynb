{
 "cells": [
  {
   "cell_type": "markdown",
   "metadata": {},
   "source": [
    "# Halo catalogs with splashback\n",
    "\n",
    "This notebooks shows how to use the `Catalog` object to inspect the properties of halos with splashback radii."
   ]
  },
  {
   "cell_type": "code",
   "execution_count": 1,
   "metadata": {},
   "outputs": [],
   "source": [
    "import numpy as np\n",
    "import matplotlib.pyplot as plt\n",
    "%matplotlib inline"
   ]
  },
  {
   "cell_type": "code",
   "execution_count": 2,
   "metadata": {},
   "outputs": [],
   "source": [
    "#Formatting\n",
    "plt.rc(\"text\", usetex=True)\n",
    "plt.rc(\"font\", size=24)"
   ]
  },
  {
   "cell_type": "code",
   "execution_count": 3,
   "metadata": {},
   "outputs": [],
   "source": [
    "#This has the Catalog object\n",
    "from catalog import *"
   ]
  },
  {
   "cell_type": "code",
   "execution_count": 4,
   "metadata": {},
   "outputs": [],
   "source": [
    "#Select a simulation\n",
    "length       = 2000 #Mpc/h comoving\n",
    "scale_factor = 1."
   ]
  },
  {
   "cell_type": "code",
   "execution_count": 5,
   "metadata": {},
   "outputs": [],
   "source": [
    "#Create the Catalog object\n",
    "cat = Catalog(length, scale_factor)"
   ]
  },
  {
   "cell_type": "code",
   "execution_count": 6,
   "metadata": {},
   "outputs": [
    {
     "data": {
      "text/plain": [
       "(0, 2.5)"
      ]
     },
     "execution_count": 6,
     "metadata": {},
     "output_type": "execute_result"
    },
    {
     "data": {
      "image/png": "[encoded data removed]",
      "text/plain": [
       "<Figure size 432x288 with 1 Axes>"
      ]
     },
     "metadata": {},
     "output_type": "display_data"
    }
   ],
   "source": [
    "#Make a scatter plot of X_M_mean vs. c200b\n",
    "plt.plot(cat.property(\"c200b\"), cat.property(\"X_Msp_mean\"), \"b.\", alpha=0.1)\n",
    "plt.xlabel(r\"$c_{\\rm 200b}$\")\n",
    "plt.ylabel(r\"$X_{\\rm M,mean}$\")\n",
    "plt.xlim(0,20)\n",
    "plt.ylim(0, 2.5)"
   ]
  },
  {
   "cell_type": "code",
   "execution_count": 7,
   "metadata": {},
   "outputs": [
    {
     "name": "stdout",
     "output_type": "stream",
     "text": [
      "          X_Rsp_mean 1.0000\n",
      "  X_Rsp_percentile50 0.9911\n",
      "  X_Rsp_percentile75 0.9844\n",
      "  X_Rsp_percentile87 0.9609\n",
      "            Rsp_mean 0.8256\n",
      "    Rsp_percentile50 0.8240\n",
      "    Rsp_percentile75 0.8087\n",
      "    Rsp_percentile87 0.7851\n",
      "      Halfmass_Scale -0.6625\n",
      "     Acc_Rate_2*Tdyn -0.4895\n",
      "          X_Msp_mean 0.4840\n",
      "  X_Msp_percentile50 0.4772\n",
      "  X_Msp_percentile75 0.4458\n",
      "      Acc_Rate_Mpeak -0.4370\n",
      "  X_Msp_percentile87 0.4317\n",
      "    scale_of_last_MM -0.3514\n",
      "                Xoff -0.3023\n",
      "           nusp_mean 0.2958\n",
      "     Acc_Rate_1*Tdyn -0.2920\n",
      "   nusp_percentile50 0.2899\n",
      "               T/|U| -0.2777\n",
      "              M2500c 0.2723\n",
      "     Halfmass_Radius -0.2710\n",
      "   nusp_percentile75 0.2501\n",
      "           Rs_Klypin -0.2454\n",
      "            Msp_mean 0.2450\n",
      "    Msp_percentile50 0.2398\n",
      "                Voff -0.2381\n",
      "Last_progenitor_depthfirst_ID 0.2365\n",
      "Last_mainleaf_depthfirst_ID 0.2365\n",
      "    Breadth_first_ID 0.2365\n",
      "      Depth_first_ID 0.2365\n",
      "           Acc_Scale -0.2302\n",
      "   nusp_percentile87 0.2298\n",
      "     First_Acc_Scale -0.2211\n",
      "                  rs -0.2115\n",
      "    Msp_percentile75 0.2058\n",
      "        Msp_mean_err -0.2038\n",
      "               c200b 0.2029\n",
      "              c_to_a 0.1944\n",
      "    Tidal_Force_Tdyn 0.1919\n",
      "         M_pe_Diemer -0.1915\n",
      "    Msp_percentile87 0.1892\n",
      "           upid_mean 0.1853\n",
      "   upid_percentile50 0.1839\n",
      "   upid_percentile75 0.1813\n",
      "                Spin -0.1809\n",
      "Log_[Vmax/Vmax_max[Tdyn;Tmpeak]] -0.1784\n",
      "        Spin_Bullock -0.1779\n",
      "   upid_percentile87 0.1776\n"
     ]
    },
    {
     "name": "stderr",
     "output_type": "stream",
     "text": [
      "/Users/tmcclintock/anaconda/lib/python2.7/site-packages/numpy/lib/function_base.py:2400: RuntimeWarning: invalid value encountered in true_divide\n",
      "  c /= stddev[:, None]\n",
      "/Users/tmcclintock/anaconda/lib/python2.7/site-packages/numpy/lib/function_base.py:2401: RuntimeWarning: invalid value encountered in true_divide\n",
      "  c /= stddev[None, :]\n"
     ]
    }
   ],
   "source": [
    "#Print the top 50 correlated variables\n",
    "names, corrs = cat.compute_correlations(\"R\", \"mean\")\n",
    "\n",
    "count = 0\n",
    "for name, R in zip(names, corrs):\n",
    "    if count >=50: \n",
    "        break\n",
    "    if np.isnan(R):\n",
    "        #Skip - this happens for irrelevant columns such as \"scale\"\n",
    "        continue\n",
    "    print(\"%20s %.4f\"%(name, R))\n",
    "    count += 1"
   ]
  },
  {
   "cell_type": "code",
   "execution_count": null,
   "metadata": {},
   "outputs": [],
   "source": []
  }
 ],
 "metadata": {
  "kernelspec": {
   "display_name": "Python 2",
   "language": "python",
   "name": "python2"
  },
  "language_info": {
   "codemirror_mode": {
    "name": "ipython",
    "version": 2
   },
   "file_extension": ".py",
   "mimetype": "text/x-python",
   "name": "python",
   "nbconvert_exporter": "python",
   "pygments_lexer": "ipython2",
   "version": "2.7.13"
  }
 },
 "nbformat": 4,
 "nbformat_minor": 2
}
